{
 "cells": [
  {
   "cell_type": "markdown",
   "metadata": {},
   "source": [
    "# Fraud Detection - Rental Scammers\n",
    "\n",
    "This project is meant to showcase my ability to form an typical data science and analysis project in Python, similar to a Kaggle competition, using a database of housing listings from a Dutch rental platform. \n",
    "\n",
    "**The objective** is to train a machine learning algorithm - or an ensemble of algorithms - to detect whether an ad is in fact legitimate or a fake offering and a method to defraud the users of the platform.\n",
    "\n",
    "The model employed will therefore be a fraud detection algorithm implemented through supervised learning (as we have already labeled data).\n",
    "\n",
    "The dataset contains 16,762 data points and each of the instances has the following features:\n",
    "\n",
    "|Feature|Description|\n",
    "|:-:|---|\n",
    "|LISTING_KIND|0 - entire place; 1 - private room; 2 - shared room|\n",
    "|LISTING_CITY|The city where the listing is located|\n",
    "|LISTING_PRICE|The monthly rent (€) of the listing|\n",
    "|IS_ARCHIVED|If the advertiser creating the listing has been archived or not.|\n",
    "|ARCHIVE_REASON|The reason why the advertiser creating the listing has been (possibly) archived.|\n",
    "|LOGIN_COUNTRY_CODE|The (last) country where the advertiser logged in from.|\n",
    "|LISTING_COUNTRY_CODE|The country where the listing is located.|\n",
    "|LISTING_REGISTRATION_POSSIBLE|If it’s possible to use listing’s address for registering at the city's municipality.|\n",
    "|ADVERTISER_COMPLETENESS_SCORE|Percentage of completeness of the advertiser’s profile.|\n",
    "|MANAGED_ACCOUNT|If the advertiser creating the listing is managed by our employees or not.|\n",
    "|HAS_PROFILE_PIC|If the advertiser creating the listing has a profile pic or not.|\n",
    "|BROWSER|The browser used to create the listing.|\n",
    "|OS|The operating system used to create the listing.|\n",
    "|ANONYMISED_EMAIL|The email address (anonymised) of the advertiser. Letters have been changed with random letters, numbers have been changed with random numbers, all the other characters have been maintained. The email domain has been maintained.|\n",
    "|IS_SCAMMER|[Outcome] Whether the listing is a scam (1 - bad) or not (0).|\n",
    "\n",
    "\n",
    "## Importing Libraries\n",
    "\n",
    "The Libraries I am going to use are Pandas and NumPy for data wrangling, Matplotlib and Seaborn for data visualisation and Scikit-Learn for ML algorithms."
   ]
  },
  {
   "cell_type": "code",
   "execution_count": 1,
   "metadata": {},
   "outputs": [
    {
     "name": "stderr",
     "output_type": "stream",
     "text": [
      "C:\\Users\\movem\\Anaconda3\\lib\\site-packages\\sklearn\\ensemble\\weight_boosting.py:29: DeprecationWarning: numpy.core.umath_tests is an internal NumPy module and should not be imported. It will be removed in a future NumPy release.\n",
      "  from numpy.core.umath_tests import inner1d\n"
     ]
    }
   ],
   "source": [
    "#Import Libraries\n",
    "import pandas as pd\n",
    "import numpy as np\n",
    "\n",
    "#Import Model Algorithms\n",
    "from sklearn.ensemble import (RandomForestClassifier, AdaBoostClassifier, \n",
    "                            GradientBoostingClassifier, VotingClassifier)\n",
    "from sklearn.discriminant_analysis import LinearDiscriminantAnalysis\n",
    "from sklearn.linear_model import LogisticRegression\n",
    "from sklearn.neural_network import MLPClassifier\n",
    "from sklearn.svm import SVC\n",
    "\n",
    "#Import Model Helpers\n",
    "from sklearn.preprocessing import OneHotEncoder, LabelEncoder, normalize, scale, StandardScaler\n",
    "from sklearn.model_selection import GridSearchCV, cross_val_score, StratifiedKFold, learning_curve, train_test_split\n",
    "from sklearn.feature_selection import RFECV\n",
    "from sklearn import feature_selection\n",
    "from sklearn import model_selection\n",
    "from sklearn import metrics\n",
    "\n",
    "#Import Visualization Libraries\n",
    "import matplotlib as mpl\n",
    "import matplotlib.pyplot as plt\n",
    "import seaborn as sns\n",
    "\n",
    "%matplotlib inline\n",
    "sns.set(style='white', context='notebook', palette='deep')\n",
    "\n",
    "import warnings\n",
    "warnings.filterwarnings('ignore')"
   ]
  },
  {
   "cell_type": "markdown",
   "metadata": {},
   "source": [
    "## Data Processing\n",
    "\n",
    "We will read the data and get a feel for what it looks like. \n",
    "\n",
    "Additionally, in order to test the algorithm later trained, we will need testing data, some \"real-life\" new cases for the model to predict. \n",
    "\n",
    "I've decided to first work on the entire dataset as one for ease of implementation and optimization, then after feature engineering and before creating the models split the dataset randomly with an *80/20 split*. This way, we can learn how good is the algorithm on new predictions it has never seen without necesarily having to gather additional data."
   ]
  },
  {
   "cell_type": "code",
   "execution_count": 2,
   "metadata": {
    "scrolled": true
   },
   "outputs": [
    {
     "name": "stdout",
     "output_type": "stream",
     "text": [
      "The dataset has the following specs: \n",
      "<class 'pandas.core.frame.DataFrame'>\n",
      "RangeIndex: 16762 entries, 0 to 16761\n",
      "Data columns (total 15 columns):\n",
      "LISTING_KIND                     16762 non-null int64\n",
      "LISTING_CITY                     16762 non-null object\n",
      "LISTING_PRICE                    16762 non-null float64\n",
      "IS_ARCHIVED                      16762 non-null bool\n",
      "ARCHIVE_REASON                   1329 non-null object\n",
      "LOGIN_COUNTRY_CODE               16733 non-null object\n",
      "LISTING_COUNTRY_CODE             16762 non-null object\n",
      "LISTING_REGISTRATION_POSSIBLE    16762 non-null int64\n",
      "ADVERTISER_COMPLETENESS_SCORE    16762 non-null int64\n",
      "MANAGED_ACCOUNT                  16762 non-null bool\n",
      "HAS_PROFILE_PIC                  16762 non-null int64\n",
      "BROWSER                          15877 non-null object\n",
      "OS                               15877 non-null object\n",
      "IS_SCAMMER                       16762 non-null int64\n",
      "ANONYMISED_EMAIL                 16762 non-null object\n",
      "dtypes: bool(2), float64(1), int64(5), object(7)\n",
      "memory usage: 1.7+ MB\n",
      "None\n"
     ]
    }
   ],
   "source": [
    "#Reading the data into a Dataframe\n",
    "train = pd.read_csv(\"train.csv\")\n",
    "\n",
    "print(\"The dataset has the following specs: \")\n",
    "print(train.info())"
   ]
  },
  {
   "cell_type": "code",
   "execution_count": 3,
   "metadata": {
    "scrolled": false
   },
   "outputs": [
    {
     "data": {
      "text/html": [
       "<div>\n",
       "<style scoped>\n",
       "    .dataframe tbody tr th:only-of-type {\n",
       "        vertical-align: middle;\n",
       "    }\n",
       "\n",
       "    .dataframe tbody tr th {\n",
       "        vertical-align: top;\n",
       "    }\n",
       "\n",
       "    .dataframe thead th {\n",
       "        text-align: right;\n",
       "    }\n",
       "</style>\n",
       "<table border=\"1\" class=\"dataframe\">\n",
       "  <thead>\n",
       "    <tr style=\"text-align: right;\">\n",
       "      <th></th>\n",
       "      <th>LISTING_KIND</th>\n",
       "      <th>LISTING_CITY</th>\n",
       "      <th>LISTING_PRICE</th>\n",
       "      <th>IS_ARCHIVED</th>\n",
       "      <th>ARCHIVE_REASON</th>\n",
       "      <th>LOGIN_COUNTRY_CODE</th>\n",
       "      <th>LISTING_COUNTRY_CODE</th>\n",
       "      <th>LISTING_REGISTRATION_POSSIBLE</th>\n",
       "      <th>ADVERTISER_COMPLETENESS_SCORE</th>\n",
       "      <th>MANAGED_ACCOUNT</th>\n",
       "      <th>HAS_PROFILE_PIC</th>\n",
       "      <th>BROWSER</th>\n",
       "      <th>OS</th>\n",
       "      <th>IS_SCAMMER</th>\n",
       "      <th>ANONYMISED_EMAIL</th>\n",
       "    </tr>\n",
       "  </thead>\n",
       "  <tbody>\n",
       "    <tr>\n",
       "      <th>0</th>\n",
       "      <td>1</td>\n",
       "      <td>Göteborg</td>\n",
       "      <td>725.00</td>\n",
       "      <td>False</td>\n",
       "      <td>NaN</td>\n",
       "      <td>se</td>\n",
       "      <td>se</td>\n",
       "      <td>0</td>\n",
       "      <td>80</td>\n",
       "      <td>False</td>\n",
       "      <td>1</td>\n",
       "      <td>Mobile Safari</td>\n",
       "      <td>iOS</td>\n",
       "      <td>0</td>\n",
       "      <td>bosqlqg@aol.com</td>\n",
       "    </tr>\n",
       "    <tr>\n",
       "      <th>1</th>\n",
       "      <td>1</td>\n",
       "      <td>Göteborg</td>\n",
       "      <td>469.35</td>\n",
       "      <td>False</td>\n",
       "      <td>NaN</td>\n",
       "      <td>se</td>\n",
       "      <td>se</td>\n",
       "      <td>1</td>\n",
       "      <td>70</td>\n",
       "      <td>False</td>\n",
       "      <td>1</td>\n",
       "      <td>Chrome</td>\n",
       "      <td>Android</td>\n",
       "      <td>0</td>\n",
       "      <td>fylm235670@gmail.com</td>\n",
       "    </tr>\n",
       "    <tr>\n",
       "      <th>2</th>\n",
       "      <td>1</td>\n",
       "      <td>Elche</td>\n",
       "      <td>200.00</td>\n",
       "      <td>False</td>\n",
       "      <td>NaN</td>\n",
       "      <td>es</td>\n",
       "      <td>es</td>\n",
       "      <td>0</td>\n",
       "      <td>25</td>\n",
       "      <td>False</td>\n",
       "      <td>0</td>\n",
       "      <td>Chrome</td>\n",
       "      <td>Android</td>\n",
       "      <td>0</td>\n",
       "      <td>mhzasjonfobc@gmail.com</td>\n",
       "    </tr>\n",
       "    <tr>\n",
       "      <th>3</th>\n",
       "      <td>0</td>\n",
       "      <td>Verona</td>\n",
       "      <td>1500.00</td>\n",
       "      <td>False</td>\n",
       "      <td>NaN</td>\n",
       "      <td>it</td>\n",
       "      <td>it</td>\n",
       "      <td>0</td>\n",
       "      <td>86</td>\n",
       "      <td>False</td>\n",
       "      <td>1</td>\n",
       "      <td>Chrome</td>\n",
       "      <td>Mac OS X</td>\n",
       "      <td>0</td>\n",
       "      <td>uclypkijb@italianflat.com</td>\n",
       "    </tr>\n",
       "    <tr>\n",
       "      <th>4</th>\n",
       "      <td>1</td>\n",
       "      <td>Copenhagen</td>\n",
       "      <td>904.16</td>\n",
       "      <td>False</td>\n",
       "      <td>NaN</td>\n",
       "      <td>dk</td>\n",
       "      <td>dk</td>\n",
       "      <td>0</td>\n",
       "      <td>5</td>\n",
       "      <td>False</td>\n",
       "      <td>1</td>\n",
       "      <td>Microsoft Edge</td>\n",
       "      <td>Windows</td>\n",
       "      <td>0</td>\n",
       "      <td>dyrrtatzx.fhcs@outlook.com</td>\n",
       "    </tr>\n",
       "  </tbody>\n",
       "</table>\n",
       "</div>"
      ],
      "text/plain": [
       "   LISTING_KIND LISTING_CITY  LISTING_PRICE  IS_ARCHIVED ARCHIVE_REASON  \\\n",
       "0             1     Göteborg         725.00        False            NaN   \n",
       "1             1     Göteborg         469.35        False            NaN   \n",
       "2             1        Elche         200.00        False            NaN   \n",
       "3             0       Verona        1500.00        False            NaN   \n",
       "4             1   Copenhagen         904.16        False            NaN   \n",
       "\n",
       "  LOGIN_COUNTRY_CODE LISTING_COUNTRY_CODE  LISTING_REGISTRATION_POSSIBLE  \\\n",
       "0                 se                   se                              0   \n",
       "1                 se                   se                              1   \n",
       "2                 es                   es                              0   \n",
       "3                 it                   it                              0   \n",
       "4                 dk                   dk                              0   \n",
       "\n",
       "   ADVERTISER_COMPLETENESS_SCORE  MANAGED_ACCOUNT  HAS_PROFILE_PIC  \\\n",
       "0                             80            False                1   \n",
       "1                             70            False                1   \n",
       "2                             25            False                0   \n",
       "3                             86            False                1   \n",
       "4                              5            False                1   \n",
       "\n",
       "          BROWSER        OS  IS_SCAMMER            ANONYMISED_EMAIL  \n",
       "0   Mobile Safari       iOS           0             bosqlqg@aol.com  \n",
       "1          Chrome   Android           0        fylm235670@gmail.com  \n",
       "2          Chrome   Android           0      mhzasjonfobc@gmail.com  \n",
       "3          Chrome  Mac OS X           0   uclypkijb@italianflat.com  \n",
       "4  Microsoft Edge   Windows           0  dyrrtatzx.fhcs@outlook.com  "
      ]
     },
     "execution_count": 3,
     "metadata": {},
     "output_type": "execute_result"
    }
   ],
   "source": [
    "train.head()"
   ]
  },
  {
   "cell_type": "code",
   "execution_count": 4,
   "metadata": {},
   "outputs": [
    {
     "data": {
      "text/html": [
       "<div>\n",
       "<style scoped>\n",
       "    .dataframe tbody tr th:only-of-type {\n",
       "        vertical-align: middle;\n",
       "    }\n",
       "\n",
       "    .dataframe tbody tr th {\n",
       "        vertical-align: top;\n",
       "    }\n",
       "\n",
       "    .dataframe thead th {\n",
       "        text-align: right;\n",
       "    }\n",
       "</style>\n",
       "<table border=\"1\" class=\"dataframe\">\n",
       "  <thead>\n",
       "    <tr style=\"text-align: right;\">\n",
       "      <th></th>\n",
       "      <th>LISTING_KIND</th>\n",
       "      <th>LISTING_CITY</th>\n",
       "      <th>LISTING_PRICE</th>\n",
       "      <th>IS_ARCHIVED</th>\n",
       "      <th>ARCHIVE_REASON</th>\n",
       "      <th>LOGIN_COUNTRY_CODE</th>\n",
       "      <th>LISTING_COUNTRY_CODE</th>\n",
       "      <th>LISTING_REGISTRATION_POSSIBLE</th>\n",
       "      <th>ADVERTISER_COMPLETENESS_SCORE</th>\n",
       "      <th>MANAGED_ACCOUNT</th>\n",
       "      <th>HAS_PROFILE_PIC</th>\n",
       "      <th>BROWSER</th>\n",
       "      <th>OS</th>\n",
       "      <th>IS_SCAMMER</th>\n",
       "      <th>ANONYMISED_EMAIL</th>\n",
       "    </tr>\n",
       "  </thead>\n",
       "  <tbody>\n",
       "    <tr>\n",
       "      <th>16757</th>\n",
       "      <td>0</td>\n",
       "      <td>Helsinki</td>\n",
       "      <td>1500.0</td>\n",
       "      <td>False</td>\n",
       "      <td>NaN</td>\n",
       "      <td>fi</td>\n",
       "      <td>fi</td>\n",
       "      <td>0</td>\n",
       "      <td>45</td>\n",
       "      <td>False</td>\n",
       "      <td>1</td>\n",
       "      <td>Chrome</td>\n",
       "      <td>Mac OS X</td>\n",
       "      <td>0</td>\n",
       "      <td>ohkmiavl144@hotmail.com</td>\n",
       "    </tr>\n",
       "    <tr>\n",
       "      <th>16758</th>\n",
       "      <td>0</td>\n",
       "      <td>Vienna</td>\n",
       "      <td>1500.0</td>\n",
       "      <td>False</td>\n",
       "      <td>NaN</td>\n",
       "      <td>ge</td>\n",
       "      <td>at</td>\n",
       "      <td>1</td>\n",
       "      <td>50</td>\n",
       "      <td>False</td>\n",
       "      <td>1</td>\n",
       "      <td>Mobile Safari</td>\n",
       "      <td>iOS</td>\n",
       "      <td>0</td>\n",
       "      <td>aolvawikf@gmail.com</td>\n",
       "    </tr>\n",
       "    <tr>\n",
       "      <th>16759</th>\n",
       "      <td>1</td>\n",
       "      <td>Vienna</td>\n",
       "      <td>550.0</td>\n",
       "      <td>False</td>\n",
       "      <td>NaN</td>\n",
       "      <td>at</td>\n",
       "      <td>at</td>\n",
       "      <td>0</td>\n",
       "      <td>5</td>\n",
       "      <td>False</td>\n",
       "      <td>0</td>\n",
       "      <td>Chrome</td>\n",
       "      <td>Android</td>\n",
       "      <td>0</td>\n",
       "      <td>ofgvctiazalcopk@gmail.com</td>\n",
       "    </tr>\n",
       "    <tr>\n",
       "      <th>16760</th>\n",
       "      <td>1</td>\n",
       "      <td>Vienna</td>\n",
       "      <td>550.0</td>\n",
       "      <td>False</td>\n",
       "      <td>NaN</td>\n",
       "      <td>at</td>\n",
       "      <td>at</td>\n",
       "      <td>1</td>\n",
       "      <td>10</td>\n",
       "      <td>False</td>\n",
       "      <td>0</td>\n",
       "      <td>Chrome</td>\n",
       "      <td>Android</td>\n",
       "      <td>0</td>\n",
       "      <td>mfoapmfalqu@gmail.com</td>\n",
       "    </tr>\n",
       "    <tr>\n",
       "      <th>16761</th>\n",
       "      <td>1</td>\n",
       "      <td>Vienna</td>\n",
       "      <td>470.0</td>\n",
       "      <td>False</td>\n",
       "      <td>NaN</td>\n",
       "      <td>de</td>\n",
       "      <td>at</td>\n",
       "      <td>0</td>\n",
       "      <td>15</td>\n",
       "      <td>False</td>\n",
       "      <td>0</td>\n",
       "      <td>Mobile Safari</td>\n",
       "      <td>iOS</td>\n",
       "      <td>0</td>\n",
       "      <td>avvd.qksrk@t-online.de</td>\n",
       "    </tr>\n",
       "  </tbody>\n",
       "</table>\n",
       "</div>"
      ],
      "text/plain": [
       "       LISTING_KIND LISTING_CITY  LISTING_PRICE  IS_ARCHIVED ARCHIVE_REASON  \\\n",
       "16757             0     Helsinki         1500.0        False            NaN   \n",
       "16758             0       Vienna         1500.0        False            NaN   \n",
       "16759             1       Vienna          550.0        False            NaN   \n",
       "16760             1       Vienna          550.0        False            NaN   \n",
       "16761             1       Vienna          470.0        False            NaN   \n",
       "\n",
       "      LOGIN_COUNTRY_CODE LISTING_COUNTRY_CODE  LISTING_REGISTRATION_POSSIBLE  \\\n",
       "16757                 fi                   fi                              0   \n",
       "16758                 ge                   at                              1   \n",
       "16759                 at                   at                              0   \n",
       "16760                 at                   at                              1   \n",
       "16761                 de                   at                              0   \n",
       "\n",
       "       ADVERTISER_COMPLETENESS_SCORE  MANAGED_ACCOUNT  HAS_PROFILE_PIC  \\\n",
       "16757                             45            False                1   \n",
       "16758                             50            False                1   \n",
       "16759                              5            False                0   \n",
       "16760                             10            False                0   \n",
       "16761                             15            False                0   \n",
       "\n",
       "             BROWSER        OS  IS_SCAMMER           ANONYMISED_EMAIL  \n",
       "16757         Chrome  Mac OS X           0    ohkmiavl144@hotmail.com  \n",
       "16758  Mobile Safari       iOS           0        aolvawikf@gmail.com  \n",
       "16759         Chrome   Android           0  ofgvctiazalcopk@gmail.com  \n",
       "16760         Chrome   Android           0      mfoapmfalqu@gmail.com  \n",
       "16761  Mobile Safari       iOS           0     avvd.qksrk@t-online.de  "
      ]
     },
     "execution_count": 4,
     "metadata": {},
     "output_type": "execute_result"
    }
   ],
   "source": [
    "train.tail()"
   ]
  },
  {
   "cell_type": "markdown",
   "metadata": {},
   "source": [
    "### Missing values"
   ]
  },
  {
   "cell_type": "code",
   "execution_count": 5,
   "metadata": {
    "scrolled": true
   },
   "outputs": [
    {
     "name": "stdout",
     "output_type": "stream",
     "text": [
      "Train dataset columns with null values:\n",
      "\n",
      "LISTING_KIND                         0\n",
      "LISTING_CITY                         0\n",
      "LISTING_PRICE                        0\n",
      "IS_ARCHIVED                          0\n",
      "ARCHIVE_REASON                   15433\n",
      "LOGIN_COUNTRY_CODE                  29\n",
      "LISTING_COUNTRY_CODE                 0\n",
      "LISTING_REGISTRATION_POSSIBLE        0\n",
      "ADVERTISER_COMPLETENESS_SCORE        0\n",
      "MANAGED_ACCOUNT                      0\n",
      "HAS_PROFILE_PIC                      0\n",
      "BROWSER                            885\n",
      "OS                                 885\n",
      "IS_SCAMMER                           0\n",
      "ANONYMISED_EMAIL                     0\n",
      "dtype: int64\n"
     ]
    }
   ],
   "source": [
    "#Checking for missing values\n",
    "print('Train dataset columns with null values:\\n')\n",
    "print(train.isnull().sum())"
   ]
  },
  {
   "cell_type": "markdown",
   "metadata": {},
   "source": [
    "### Descriptive statistics"
   ]
  },
  {
   "cell_type": "code",
   "execution_count": 6,
   "metadata": {
    "scrolled": true
   },
   "outputs": [
    {
     "data": {
      "text/html": [
       "<div>\n",
       "<style scoped>\n",
       "    .dataframe tbody tr th:only-of-type {\n",
       "        vertical-align: middle;\n",
       "    }\n",
       "\n",
       "    .dataframe tbody tr th {\n",
       "        vertical-align: top;\n",
       "    }\n",
       "\n",
       "    .dataframe thead th {\n",
       "        text-align: right;\n",
       "    }\n",
       "</style>\n",
       "<table border=\"1\" class=\"dataframe\">\n",
       "  <thead>\n",
       "    <tr style=\"text-align: right;\">\n",
       "      <th></th>\n",
       "      <th>LISTING_KIND</th>\n",
       "      <th>LISTING_CITY</th>\n",
       "      <th>LISTING_PRICE</th>\n",
       "      <th>IS_ARCHIVED</th>\n",
       "      <th>ARCHIVE_REASON</th>\n",
       "      <th>LOGIN_COUNTRY_CODE</th>\n",
       "      <th>LISTING_COUNTRY_CODE</th>\n",
       "      <th>LISTING_REGISTRATION_POSSIBLE</th>\n",
       "      <th>ADVERTISER_COMPLETENESS_SCORE</th>\n",
       "      <th>MANAGED_ACCOUNT</th>\n",
       "      <th>HAS_PROFILE_PIC</th>\n",
       "      <th>BROWSER</th>\n",
       "      <th>OS</th>\n",
       "      <th>IS_SCAMMER</th>\n",
       "      <th>ANONYMISED_EMAIL</th>\n",
       "    </tr>\n",
       "  </thead>\n",
       "  <tbody>\n",
       "    <tr>\n",
       "      <th>count</th>\n",
       "      <td>16762.00000</td>\n",
       "      <td>16762</td>\n",
       "      <td>16762.000000</td>\n",
       "      <td>16762</td>\n",
       "      <td>1329</td>\n",
       "      <td>16733</td>\n",
       "      <td>16762</td>\n",
       "      <td>16762.000000</td>\n",
       "      <td>16762.000000</td>\n",
       "      <td>16762</td>\n",
       "      <td>16762.000000</td>\n",
       "      <td>15877</td>\n",
       "      <td>15877</td>\n",
       "      <td>16762.000000</td>\n",
       "      <td>16762</td>\n",
       "    </tr>\n",
       "    <tr>\n",
       "      <th>unique</th>\n",
       "      <td>NaN</td>\n",
       "      <td>1078</td>\n",
       "      <td>NaN</td>\n",
       "      <td>2</td>\n",
       "      <td>2</td>\n",
       "      <td>116</td>\n",
       "      <td>96</td>\n",
       "      <td>NaN</td>\n",
       "      <td>NaN</td>\n",
       "      <td>2</td>\n",
       "      <td>NaN</td>\n",
       "      <td>14</td>\n",
       "      <td>8</td>\n",
       "      <td>NaN</td>\n",
       "      <td>16759</td>\n",
       "    </tr>\n",
       "    <tr>\n",
       "      <th>top</th>\n",
       "      <td>NaN</td>\n",
       "      <td>Rotterdam</td>\n",
       "      <td>NaN</td>\n",
       "      <td>False</td>\n",
       "      <td>scam</td>\n",
       "      <td>nl</td>\n",
       "      <td>nl</td>\n",
       "      <td>NaN</td>\n",
       "      <td>NaN</td>\n",
       "      <td>False</td>\n",
       "      <td>NaN</td>\n",
       "      <td>Chrome</td>\n",
       "      <td>Windows</td>\n",
       "      <td>NaN</td>\n",
       "      <td>eg@gestea.be</td>\n",
       "    </tr>\n",
       "    <tr>\n",
       "      <th>freq</th>\n",
       "      <td>NaN</td>\n",
       "      <td>1587</td>\n",
       "      <td>NaN</td>\n",
       "      <td>15061</td>\n",
       "      <td>1050</td>\n",
       "      <td>2760</td>\n",
       "      <td>3055</td>\n",
       "      <td>NaN</td>\n",
       "      <td>NaN</td>\n",
       "      <td>16340</td>\n",
       "      <td>NaN</td>\n",
       "      <td>10724</td>\n",
       "      <td>7657</td>\n",
       "      <td>NaN</td>\n",
       "      <td>2</td>\n",
       "    </tr>\n",
       "    <tr>\n",
       "      <th>mean</th>\n",
       "      <td>0.67826</td>\n",
       "      <td>NaN</td>\n",
       "      <td>893.245898</td>\n",
       "      <td>NaN</td>\n",
       "      <td>NaN</td>\n",
       "      <td>NaN</td>\n",
       "      <td>NaN</td>\n",
       "      <td>0.595573</td>\n",
       "      <td>50.400609</td>\n",
       "      <td>NaN</td>\n",
       "      <td>0.788390</td>\n",
       "      <td>NaN</td>\n",
       "      <td>NaN</td>\n",
       "      <td>0.057869</td>\n",
       "      <td>NaN</td>\n",
       "    </tr>\n",
       "    <tr>\n",
       "      <th>std</th>\n",
       "      <td>0.57137</td>\n",
       "      <td>NaN</td>\n",
       "      <td>7855.890107</td>\n",
       "      <td>NaN</td>\n",
       "      <td>NaN</td>\n",
       "      <td>NaN</td>\n",
       "      <td>NaN</td>\n",
       "      <td>0.490795</td>\n",
       "      <td>26.508424</td>\n",
       "      <td>NaN</td>\n",
       "      <td>0.408462</td>\n",
       "      <td>NaN</td>\n",
       "      <td>NaN</td>\n",
       "      <td>0.233503</td>\n",
       "      <td>NaN</td>\n",
       "    </tr>\n",
       "    <tr>\n",
       "      <th>min</th>\n",
       "      <td>0.00000</td>\n",
       "      <td>NaN</td>\n",
       "      <td>0.470000</td>\n",
       "      <td>NaN</td>\n",
       "      <td>NaN</td>\n",
       "      <td>NaN</td>\n",
       "      <td>NaN</td>\n",
       "      <td>0.000000</td>\n",
       "      <td>0.000000</td>\n",
       "      <td>NaN</td>\n",
       "      <td>0.000000</td>\n",
       "      <td>NaN</td>\n",
       "      <td>NaN</td>\n",
       "      <td>0.000000</td>\n",
       "      <td>NaN</td>\n",
       "    </tr>\n",
       "    <tr>\n",
       "      <th>25%</th>\n",
       "      <td>0.00000</td>\n",
       "      <td>NaN</td>\n",
       "      <td>450.000000</td>\n",
       "      <td>NaN</td>\n",
       "      <td>NaN</td>\n",
       "      <td>NaN</td>\n",
       "      <td>NaN</td>\n",
       "      <td>0.000000</td>\n",
       "      <td>35.000000</td>\n",
       "      <td>NaN</td>\n",
       "      <td>1.000000</td>\n",
       "      <td>NaN</td>\n",
       "      <td>NaN</td>\n",
       "      <td>0.000000</td>\n",
       "      <td>NaN</td>\n",
       "    </tr>\n",
       "    <tr>\n",
       "      <th>50%</th>\n",
       "      <td>1.00000</td>\n",
       "      <td>NaN</td>\n",
       "      <td>600.000000</td>\n",
       "      <td>NaN</td>\n",
       "      <td>NaN</td>\n",
       "      <td>NaN</td>\n",
       "      <td>NaN</td>\n",
       "      <td>1.000000</td>\n",
       "      <td>50.000000</td>\n",
       "      <td>NaN</td>\n",
       "      <td>1.000000</td>\n",
       "      <td>NaN</td>\n",
       "      <td>NaN</td>\n",
       "      <td>0.000000</td>\n",
       "      <td>NaN</td>\n",
       "    </tr>\n",
       "    <tr>\n",
       "      <th>75%</th>\n",
       "      <td>1.00000</td>\n",
       "      <td>NaN</td>\n",
       "      <td>950.000000</td>\n",
       "      <td>NaN</td>\n",
       "      <td>NaN</td>\n",
       "      <td>NaN</td>\n",
       "      <td>NaN</td>\n",
       "      <td>1.000000</td>\n",
       "      <td>70.000000</td>\n",
       "      <td>NaN</td>\n",
       "      <td>1.000000</td>\n",
       "      <td>NaN</td>\n",
       "      <td>NaN</td>\n",
       "      <td>0.000000</td>\n",
       "      <td>NaN</td>\n",
       "    </tr>\n",
       "    <tr>\n",
       "      <th>max</th>\n",
       "      <td>2.00000</td>\n",
       "      <td>NaN</td>\n",
       "      <td>1000000.000000</td>\n",
       "      <td>NaN</td>\n",
       "      <td>NaN</td>\n",
       "      <td>NaN</td>\n",
       "      <td>NaN</td>\n",
       "      <td>1.000000</td>\n",
       "      <td>100.000000</td>\n",
       "      <td>NaN</td>\n",
       "      <td>1.000000</td>\n",
       "      <td>NaN</td>\n",
       "      <td>NaN</td>\n",
       "      <td>1.000000</td>\n",
       "      <td>NaN</td>\n",
       "    </tr>\n",
       "  </tbody>\n",
       "</table>\n",
       "</div>"
      ],
      "text/plain": [
       "        LISTING_KIND LISTING_CITY   LISTING_PRICE IS_ARCHIVED ARCHIVE_REASON  \\\n",
       "count    16762.00000        16762    16762.000000       16762           1329   \n",
       "unique           NaN         1078             NaN           2              2   \n",
       "top              NaN    Rotterdam             NaN       False           scam   \n",
       "freq             NaN         1587             NaN       15061           1050   \n",
       "mean         0.67826          NaN      893.245898         NaN            NaN   \n",
       "std          0.57137          NaN     7855.890107         NaN            NaN   \n",
       "min          0.00000          NaN        0.470000         NaN            NaN   \n",
       "25%          0.00000          NaN      450.000000         NaN            NaN   \n",
       "50%          1.00000          NaN      600.000000         NaN            NaN   \n",
       "75%          1.00000          NaN      950.000000         NaN            NaN   \n",
       "max          2.00000          NaN  1000000.000000         NaN            NaN   \n",
       "\n",
       "       LOGIN_COUNTRY_CODE LISTING_COUNTRY_CODE  LISTING_REGISTRATION_POSSIBLE  \\\n",
       "count               16733                16762                   16762.000000   \n",
       "unique                116                   96                            NaN   \n",
       "top                    nl                   nl                            NaN   \n",
       "freq                 2760                 3055                            NaN   \n",
       "mean                  NaN                  NaN                       0.595573   \n",
       "std                   NaN                  NaN                       0.490795   \n",
       "min                   NaN                  NaN                       0.000000   \n",
       "25%                   NaN                  NaN                       0.000000   \n",
       "50%                   NaN                  NaN                       1.000000   \n",
       "75%                   NaN                  NaN                       1.000000   \n",
       "max                   NaN                  NaN                       1.000000   \n",
       "\n",
       "        ADVERTISER_COMPLETENESS_SCORE MANAGED_ACCOUNT  HAS_PROFILE_PIC  \\\n",
       "count                    16762.000000           16762     16762.000000   \n",
       "unique                            NaN               2              NaN   \n",
       "top                               NaN           False              NaN   \n",
       "freq                              NaN           16340              NaN   \n",
       "mean                        50.400609             NaN         0.788390   \n",
       "std                         26.508424             NaN         0.408462   \n",
       "min                          0.000000             NaN         0.000000   \n",
       "25%                         35.000000             NaN         1.000000   \n",
       "50%                         50.000000             NaN         1.000000   \n",
       "75%                         70.000000             NaN         1.000000   \n",
       "max                        100.000000             NaN         1.000000   \n",
       "\n",
       "       BROWSER       OS    IS_SCAMMER ANONYMISED_EMAIL  \n",
       "count    15877    15877  16762.000000            16762  \n",
       "unique      14        8           NaN            16759  \n",
       "top     Chrome  Windows           NaN     eg@gestea.be  \n",
       "freq     10724     7657           NaN                2  \n",
       "mean       NaN      NaN      0.057869              NaN  \n",
       "std        NaN      NaN      0.233503              NaN  \n",
       "min        NaN      NaN      0.000000              NaN  \n",
       "25%        NaN      NaN      0.000000              NaN  \n",
       "50%        NaN      NaN      0.000000              NaN  \n",
       "75%        NaN      NaN      0.000000              NaN  \n",
       "max        NaN      NaN      1.000000              NaN  "
      ]
     },
     "execution_count": 6,
     "metadata": {},
     "output_type": "execute_result"
    }
   ],
   "source": [
    "#Checking for other high level patterns of interest in data\n",
    "train.describe(include = 'all')"
   ]
  },
  {
   "cell_type": "code",
   "execution_count": 7,
   "metadata": {},
   "outputs": [
    {
     "name": "stdout",
     "output_type": "stream",
     "text": [
      "False    15061\n",
      "True      1701\n",
      "Name: IS_ARCHIVED, dtype: int64\n",
      "scam     1050\n",
      "other     279\n",
      "Name: ARCHIVE_REASON, dtype: int64\n"
     ]
    }
   ],
   "source": [
    "print(train['IS_ARCHIVED'].value_counts())\n",
    "print(train['ARCHIVE_REASON'].value_counts())"
   ]
  },
  {
   "cell_type": "markdown",
   "metadata": {},
   "source": [
    "Because we can't derive any useful information, since they are a consequence of the outcome we're trying to predict (ad is scam or not), we can scrap `'IS_ARCHIVED'` and `'ARCHIVE_REASON'` columns.\n",
    "\n",
    "Therefore, the only columns with missing values are `'LOGIN_COUNTRY_CODE'`, `'BROWSER'` and `'OS'`."
   ]
  },
  {
   "cell_type": "code",
   "execution_count": 8,
   "metadata": {},
   "outputs": [],
   "source": [
    "train.drop(['IS_ARCHIVED','ARCHIVE_REASON'], axis=1, inplace = True)"
   ]
  },
  {
   "cell_type": "code",
   "execution_count": 9,
   "metadata": {
    "scrolled": true
   },
   "outputs": [
    {
     "name": "stdout",
     "output_type": "stream",
     "text": [
      "nl    2760\n",
      "es    2621\n",
      "it    2500\n",
      "de    1936\n",
      "at    1080\n",
      "      ... \n",
      "sm       1\n",
      "cm       1\n",
      "kh       1\n",
      "ps       1\n",
      "mc       1\n",
      "Name: LOGIN_COUNTRY_CODE, Length: 116, dtype: int64 \n",
      " --------------------------------------------------\n",
      "Chrome                      10724\n",
      "Mobile Safari                2071\n",
      "Firefox                      1246\n",
      "Safari                        996\n",
      "Microsoft Edge                341\n",
      "Opera                         138\n",
      "Chrome iOS                    131\n",
      "Internet Explorer             120\n",
      "Android Mobile                 56\n",
      "Facebook Mobile                23\n",
      "Firefox iOS                    19\n",
      "Internet Explorer Mobile       10\n",
      "Mozilla                         1\n",
      "BlackBerry                      1\n",
      "Name: BROWSER, dtype: int64 \n",
      " --------------------------------------------------\n",
      "Windows          7657\n",
      "Mac OS X         3456\n",
      "Android          2368\n",
      "iOS              2245\n",
      "Linux             113\n",
      "Chrome OS          26\n",
      "Windows Phone      11\n",
      "BlackBerry          1\n",
      "Name: OS, dtype: int64 \n",
      " --------------------------------------------------\n"
     ]
    }
   ],
   "source": [
    "missing_columns = ['LOGIN_COUNTRY_CODE', 'BROWSER', 'OS']\n",
    "\n",
    "for column in missing_columns:\n",
    "    print(train[column].value_counts(),'\\n','-'*50)"
   ]
  },
  {
   "cell_type": "markdown",
   "metadata": {},
   "source": [
    "Let's test the hypothesis that those entries without `'LOGIN_COUNTRY_CODE'` have also, probably, hidden `'OS'` and `'BROWSER'` majoritarily."
   ]
  },
  {
   "cell_type": "code",
   "execution_count": 10,
   "metadata": {},
   "outputs": [
    {
     "name": "stdout",
     "output_type": "stream",
     "text": [
      "When the login country field is missing there are 6 OS and 6 browser datapoints missing, meaning 20.69% and 20.69%, respectively, out of all missing login country entries.\n",
      "\n",
      "The ratio between OS and browser missing values is:  1.0\n"
     ]
    }
   ],
   "source": [
    "#how many entries have no login country field\n",
    "train_country_nan = train['LOGIN_COUNTRY_CODE'].isnull().sum()\n",
    "\n",
    "#assigning to tuples missing OS and browser fields given missing login country field\n",
    "train_os_given_country_nan, train_browser_given_country_nan = list(train.loc[train['LOGIN_COUNTRY_CODE'].isnull(),\n",
    "                                                                             ['OS', 'BROWSER']].isnull().sum())\n",
    "\n",
    "#calculating the ratio of missing OS or browser to missing login country\n",
    "train_ctr_os = train_os_given_country_nan/train_country_nan\n",
    "train_ctr_browser = train_browser_given_country_nan/train_country_nan\n",
    "\n",
    "print('''When the login country field is missing there are {0} OS and {1} browser datapoints missing, \\\n",
    "meaning {2:.2%} and {3:.2%}, respectively, out of all missing login country entries.'''.format(\n",
    "    train_os_given_country_nan, train_browser_given_country_nan, train_ctr_os,train_ctr_browser))\n",
    "\n",
    "#checking the ratio between missing OS and browser values\n",
    "print(\"\\nThe ratio between OS and browser missing values is: \", \n",
    "      train['OS'].isnull().sum() / train['BROWSER'].isnull().sum())"
   ]
  },
  {
   "cell_type": "markdown",
   "metadata": {},
   "source": [
    "Interestingly enough, it seems that when the browser info is missing, so is the OS info. This is most probably due to privacy filters/opting out of tracking cookies.\n",
    "\n",
    "However nothing certain can be said as only 21% of the countryless cases from the training set exhibit the phenomenon. We have to dig up some more to see whether or not there is relevant information to be derived from the fields interrelations.\n",
    "\n",
    "> Let's now fill the NaNs with 'Missing', giving the benefit of the doubt to those entries without `'LOGIN_COUNTRY_CODE'`, `'BROWSER'` and `'OS'`.\n",
    "\n",
    "> Also, let's do some preliminary feature engineering and fetch all the email domains from the email column."
   ]
  },
  {
   "cell_type": "code",
   "execution_count": 11,
   "metadata": {},
   "outputs": [],
   "source": [
    "def fill_nan(df, columns, fill_value):\n",
    "    \"\"\"Fill the missing instances from a given single column with the specified value\n",
    "\n",
    "    Usage\n",
    "    ------\n",
    "\n",
    "    train = fill_nan(train,\"BROWSER\", Missing\")\n",
    "    \"\"\"\n",
    "    for col in columns:\n",
    "        df[col].fillna(fill_value, inplace = True)\n",
    "    return df\n",
    "\n",
    "\n",
    "nan_replacement = 'Missing'\n",
    "fill_nan(train, missing_columns, nan_replacement)\n",
    "\n",
    "#transform TRUE/FALSE into 1/0\n",
    "train['MANAGED_ACCOUNT'] = train['MANAGED_ACCOUNT'] * 1 \n",
    "\n",
    "#get domain from account email\n",
    "train['EMAIL_DOMAIN'] = train['ANONYMISED_EMAIL'].str.extract(r'@(.*)')"
   ]
  },
  {
   "cell_type": "markdown",
   "metadata": {},
   "source": [
    "## Exploratory Data Analysis\n",
    "\n",
    "We're now going to try to see whether or not there are any obvious relations between possible features and the probability of being a scammer in the training dataset.\n",
    "\n",
    "### Completeness score, listing kind and profile pic"
   ]
  },
  {
   "cell_type": "code",
   "execution_count": 12,
   "metadata": {
    "scrolled": true
   },
   "outputs": [
    {
     "data": {
      "image/png": "[encoded data removed]",
      "text/plain": [
       "<Figure size 718x432 with 6 Axes>"
      ]
     },
     "metadata": {},
     "output_type": "display_data"
    },
    {
     "data": {
      "text/plain": [
       "<seaborn.axisgrid.FacetGrid at 0x25ca8ea3240>"
      ]
     },
     "execution_count": 12,
     "metadata": {},
     "output_type": "execute_result"
    },
    {
     "data": {
      "image/png": "[encoded data removed]",
      "text/plain": [
       "<Figure size 432x288 with 1 Axes>"
      ]
     },
     "metadata": {},
     "output_type": "display_data"
    },
    {
     "data": {
      "image/png": "[encoded data removed]",
      "text/plain": [
       "<Figure size 718x216 with 1 Axes>"
      ]
     },
     "metadata": {},
     "output_type": "display_data"
    }
   ],
   "source": [
    "a = sns.FacetGrid(train, row = 'HAS_PROFILE_PIC', col = 'LISTING_KIND', hue = 'IS_SCAMMER', legend_out=True)\n",
    "a.map(plt.hist, 'ADVERTISER_COMPLETENESS_SCORE', alpha = .75)\n",
    "a.set(ylim=(0 , 1000))\n",
    "a.add_legend()\n",
    "plt.tight_layout()\n",
    "plt.show()\n",
    "\n",
    "plt.hist([train['ADVERTISER_COMPLETENESS_SCORE']], density=True)\n",
    "plt.title(\"ADVERTISER_COMPLETENESS_SCORE Normalized Histogram\")\n",
    "\n",
    "b = sns.FacetGrid( train, hue = 'IS_SCAMMER', aspect=3 )\n",
    "b.map(sns.kdeplot, 'ADVERTISER_COMPLETENESS_SCORE', shade= True )\n",
    "b.set(xlim=(0 , 100))\n",
    "b.add_legend()"
   ]
  },
  {
   "cell_type": "markdown",
   "metadata": {},
   "source": [
    "As expected, there is a higher concentration of scammers at lower levels of *completeness score*. Also, notably, there are fewer scammers posting *shared rooms* (`LISTING_KIND = 2`) offers.\n",
    "\n",
    "\n",
    "### Listing price"
   ]
  },
  {
   "cell_type": "code",
   "execution_count": 13,
   "metadata": {
    "scrolled": true
   },
   "outputs": [
    {
     "data": {
      "image/png": "[encoded data removed]",
      "text/plain": [
       "<Figure size 432x288 with 1 Axes>"
      ]
     },
     "metadata": {},
     "output_type": "display_data"
    }
   ],
   "source": [
    "sns.boxplot(train['LISTING_PRICE'])\n",
    "plt.show()"
   ]
  },
  {
   "cell_type": "markdown",
   "metadata": {},
   "source": [
    "We can immediately see that there are some significant outliers."
   ]
  },
  {
   "cell_type": "code",
   "execution_count": 14,
   "metadata": {
    "scrolled": true
   },
   "outputs": [
    {
     "name": "stdout",
     "output_type": "stream",
     "text": [
      "LISTING_PRICE skewness: 123.19\n"
     ]
    }
   ],
   "source": [
    "print(\"LISTING_PRICE skewness: %.2f\"%(train[\"LISTING_PRICE\"].skew()))"
   ]
  },
  {
   "cell_type": "markdown",
   "metadata": {},
   "source": [
    "Coupled with heavy distribution skewness."
   ]
  },
  {
   "cell_type": "code",
   "execution_count": 15,
   "metadata": {
    "scrolled": true
   },
   "outputs": [
    {
     "data": {
      "image/png": "[encoded data removed]",
      "text/plain": [
       "<Figure size 432x288 with 1 Axes>"
      ]
     },
     "metadata": {},
     "output_type": "display_data"
    },
    {
     "data": {
      "image/png": "[encoded data removed]",
      "text/plain": [
       "<Figure size 432x288 with 1 Axes>"
      ]
     },
     "metadata": {},
     "output_type": "display_data"
    }
   ],
   "source": [
    "n_train = len(train)\n",
    "\n",
    "sns.boxplot(x=train['LISTING_PRICE'])\n",
    "plt.xlim(0 , 10000)\n",
    "plt.show()\n",
    "sns.boxplot(x=train['LISTING_PRICE'])\n",
    "plt.xlim(-10 , 1000)\n",
    "plt.show()"
   ]
  },
  {
   "cell_type": "code",
   "execution_count": 16,
   "metadata": {
    "scrolled": true
   },
   "outputs": [
    {
     "name": "stdout",
     "output_type": "stream",
     "text": [
      "The difference between the percentage of scammers in price outliers and general percentage of outliers is: \n",
      " 31.71 = 37.5  -  5.79\n"
     ]
    }
   ],
   "source": [
    "#finding number of outliers taking 6000EUR/m as threshold\n",
    "n_outliers = len(train[train['LISTING_PRICE'] > 6000])\n",
    "\n",
    "#finding the percentange of scam ads\n",
    "pct_scammers = len(train[train['IS_SCAMMER'] == 1]) / n_train * 100\n",
    "\n",
    "#finding how many of the outliers are scammers\n",
    "n_scammers_outliers = len(train.loc[(train['LISTING_PRICE'] > 6000) & (train['IS_SCAMMER'] == 1)])\n",
    "pct_scammers_outliers = n_scammers_outliers / n_outliers * 100\n",
    "\n",
    "print(\"The difference between the percentage of scammers in price outliers and general percentage of outliers is: \\n\",\n",
    "      round(pct_scammers_outliers - pct_scammers,2), \"=\", \n",
    "      round(pct_scammers_outliers, 2), \" - \", \n",
    "      round(pct_scammers, 2))"
   ]
  },
  {
   "cell_type": "markdown",
   "metadata": {},
   "source": [
    "On closer inspection  we cannot simply remove the outliers as there is a significantly more concentration of scammers at those price levels.\n",
    "\n",
    "We're going to deal with the outliers and skewness problems in feature engineering.\n",
    "\n",
    "### Drawing a correlation heatmap with the available features"
   ]
  },
  {
   "cell_type": "code",
   "execution_count": 17,
   "metadata": {
    "scrolled": true
   },
   "outputs": [
    {
     "data": {
      "image/png": "[encoded data removed]",
      "text/plain": [
       "<Figure size 1008x864 with 2 Axes>"
      ]
     },
     "metadata": {},
     "output_type": "display_data"
    }
   ],
   "source": [
    "#correlation heatmap of dataset\n",
    "def correlation_heatmap(df):\n",
    "    fig , ax = plt.subplots(figsize =(14, 12))\n",
    "    colormap = sns.diverging_palette(220, 10, as_cmap = True)\n",
    "    \n",
    "    fig = sns.heatmap(\n",
    "        df.corr(), \n",
    "        cmap = colormap,\n",
    "        square=True, \n",
    "        cbar_kws={'shrink':.9 }, \n",
    "        ax=ax,\n",
    "        annot=True, \n",
    "        linewidths=0.1,vmax=1.0, linecolor='white',\n",
    "        annot_kws={'fontsize':12 }\n",
    "    )\n",
    "    \n",
    "    plt.title('Pearson Correlation of Features', y=1.05, size=15)\n",
    "\n",
    "correlation_heatmap(train)"
   ]
  },
  {
   "cell_type": "markdown",
   "metadata": {},
   "source": [
    "Because `HAS_PROFILE_PIC` is highly correlated with `ADVERTISER_COMPLETENESS_SCORE` we will drop it later in the features preparation process, since the completeness score should encompass more information than the profile pic presence alone."
   ]
  },
  {
   "cell_type": "markdown",
   "metadata": {},
   "source": [
    "## Feature Engineering\n",
    "\n",
    "We're now going to make use of the available columns to generate some new features which will probably be of more use to the model than their current state.\n",
    "\n",
    "### Feature Scaling\n",
    "\n",
    "The **listing price** by itself probably won't tell us much, and since price is many magnitudes higher than any other feature we have to normalize/standardize it anyways. Considering the skewness found above, and the fact that this can lead to overweight very high values in the model (even if it is scaled), we should transform the data through a log function."
   ]
  },
  {
   "cell_type": "code",
   "execution_count": 18,
   "metadata": {
    "scrolled": true
   },
   "outputs": [
    {
     "name": "stdout",
     "output_type": "stream",
     "text": [
      "0.47          1\n",
      "0.58          2\n",
      "1.24          3\n",
      "1.44          1\n",
      "1.46          1\n",
      "             ..\n",
      "15461.59      1\n",
      "43000.00      1\n",
      "55000.00      1\n",
      "150000.00     1\n",
      "1000000.00    1\n",
      "Name: LISTING_PRICE, Length: 2033, dtype: int64 \n",
      " --------------------------------------------------\n",
      "-0.755023     1\n",
      "-0.544727     2\n",
      " 0.215111     3\n",
      " 0.364643     1\n",
      " 0.378436     1\n",
      "             ..\n",
      " 9.646114     1\n",
      " 10.668955    1\n",
      " 10.915088    1\n",
      " 11.918391    1\n",
      " 13.815511    1\n",
      "Name: LISTING_PRICE_LOG, Length: 2033, dtype: int64\n"
     ]
    },
    {
     "data": {
      "image/png": "[encoded data removed]",
      "text/plain": [
       "<Figure size 432x288 with 1 Axes>"
      ]
     },
     "metadata": {},
     "output_type": "display_data"
    }
   ],
   "source": [
    "train[\"LISTING_PRICE_LOG\"] = train[\"LISTING_PRICE\"].map(lambda i: np.log(i) if i > 0 else 0)\n",
    "\n",
    "g = sns.distplot(train[\"LISTING_PRICE_LOG\"], color=\"b\", label=\"Skewness : %.2f\"%(train[\"LISTING_PRICE_LOG\"].skew()))\n",
    "g = g.legend(loc=\"best\")\n",
    "\n",
    "print(train[\"LISTING_PRICE\"].value_counts().sort_index(),'\\n','-'*50)\n",
    "print(train[\"LISTING_PRICE_LOG\"].value_counts().sort_index())"
   ]
  },
  {
   "cell_type": "markdown",
   "metadata": {},
   "source": [
    "### Difference in pricing\n",
    "\n",
    "One key factor that could differentiate scammers from legitimate advertisers is that difference in prices listed for the certain listing types and cities. We can use Z-scores in order to assess whether the price is fair, under/over priced or severely under/over priced"
   ]
  },
  {
   "cell_type": "code",
   "execution_count": 19,
   "metadata": {},
   "outputs": [],
   "source": [
    "train_pivot = train.pivot_table(index=['LISTING_KIND','LISTING_CITY'],values='LISTING_PRICE', aggfunc=[np.mean,np.std])\n",
    "\n",
    "for row in train.itertuples():\n",
    "    mean_price_row = (train_pivot.query('LISTING_KIND == {0} and LISTING_CITY == \"{1}\"'.format(\n",
    "        train.loc[row.Index,'LISTING_KIND'],train.loc[row.Index,'LISTING_CITY']))).iloc[0,0]\n",
    "    std_price_row = (train_pivot.query('LISTING_KIND == {0} and LISTING_CITY == \"{1}\"'.format(\n",
    "        train.loc[row.Index,'LISTING_KIND'],train.loc[row.Index,'LISTING_CITY']))).iloc[0,1]\n",
    "    train.at[row.Index, 'Z_PRICE'] = (train.loc[row.Index, 'LISTING_PRICE'] - mean_price_row) / std_price_row"
   ]
  },
  {
   "cell_type": "markdown",
   "metadata": {},
   "source": [
    "Some values for `'Z_PRICE'` will be missing since not every listing combination can have a standard deviation (think of a singular listing in that specific city). \n",
    "Therefore we will have to fill the missing values with a neutral value."
   ]
  },
  {
   "cell_type": "code",
   "execution_count": 20,
   "metadata": {},
   "outputs": [],
   "source": [
    "train['Z_PRICE'].fillna(0,inplace=True)"
   ]
  },
  {
   "cell_type": "markdown",
   "metadata": {},
   "source": [
    "Another thing we can do is to standardize **advertiser completeness score** too."
   ]
  },
  {
   "cell_type": "code",
   "execution_count": 21,
   "metadata": {},
   "outputs": [],
   "source": [
    "mean_score = train[\"ADVERTISER_COMPLETENESS_SCORE\"].mean()\n",
    "std_score = train[\"ADVERTISER_COMPLETENESS_SCORE\"].std()\n",
    "train[\"ADVERTISER_COMPLETENESS_SCORE_SCALED\"] = train[\"ADVERTISER_COMPLETENESS_SCORE\"].map(\n",
    "    lambda i: (i - mean_score) / std_score)"
   ]
  },
  {
   "cell_type": "markdown",
   "metadata": {},
   "source": [
    "Labeling rare string elements from `LISTING_CITY`, `LOGIN_COUNTRY_CODE` and `EMAIL_DOMAIN`."
   ]
  },
  {
   "cell_type": "code",
   "execution_count": 22,
   "metadata": {
    "scrolled": true
   },
   "outputs": [
    {
     "name": "stdout",
     "output_type": "stream",
     "text": [
      "Rare             2906\n",
      "Rotterdam        1587\n",
      "Berlin           1317\n",
      "Barcelona        1177\n",
      "Vienna           1172\n",
      "                 ... \n",
      "Petaling Jaya      34\n",
      "Ankara             33\n",
      "Bogotá             32\n",
      "Bern               32\n",
      "Brescia            30\n",
      "Name: LISTING_CITY_PROCESSED, Length: 70, dtype: int64 \n",
      " --------------------------------------------------\n",
      "nl    2760\n",
      "es    2621\n",
      "it    2500\n",
      "de    1936\n",
      "at    1080\n",
      "      ... \n",
      "tw      11\n",
      "nz      11\n",
      "np      10\n",
      "in      10\n",
      "tn      10\n",
      "Name: LOGIN_COUNTRY_CODE_PROCESSED, Length: 62, dtype: int64 \n",
      " --------------------------------------------------\n",
      "gmail.com              6437\n",
      "Rare                   3899\n",
      "hotmail.com            1608\n",
      "yahoo.com               448\n",
      "housinganywhere.com     422\n",
      "                       ... \n",
      "aol.com                  33\n",
      "interasmundo.com         32\n",
      "hi.is                    30\n",
      "loftly.nl                30\n",
      "tiscali.it               30\n",
      "Name: EMAIL_DOMAIN_PROCESSED, Length: 64, dtype: int64 \n",
      " --------------------------------------------------\n"
     ]
    }
   ],
   "source": [
    "def process_location(train, location_column, threshold):\n",
    "    \"\"\"Prepare for dummy creation the locations columns by labeling rare location names\n",
    "\n",
    "    Usage\n",
    "    ------\n",
    "\n",
    "    train = process_location(train, task, \"LISTING_CITY\", 20)\n",
    "    \"\"\"\n",
    "    train_locations = train[location_column].value_counts()\n",
    "    rare_locs = train_locations.combine(train_locations, max, fill_value=0)\n",
    "    rare_locs = list(rare_locs.where(rare_locs < threshold).dropna().index)\n",
    "    \n",
    "    train[location_column+\"_PROCESSED\"] = train[location_column].replace(rare_locs, 'Rare')\n",
    "    return train\n",
    "\n",
    "location_columns = {'LISTING_CITY':30, \n",
    "                    'LOGIN_COUNTRY_CODE':10, \n",
    "                    'EMAIL_DOMAIN':30\n",
    "                   }\n",
    "\n",
    "for loc_col, threshold in location_columns.items():\n",
    "    train = process_location(train, loc_col, threshold)\n",
    "for loc_col in location_columns:   \n",
    "    print(train[loc_col+\"_PROCESSED\"].value_counts(),'\\n','-'*50)"
   ]
  },
  {
   "cell_type": "markdown",
   "metadata": {},
   "source": [
    "### Cross-border offer placing\n",
    "One possible feature can be whether or not the advertiser is loging in from another country than the listed offer's one."
   ]
  },
  {
   "cell_type": "code",
   "execution_count": 23,
   "metadata": {
    "scrolled": false
   },
   "outputs": [],
   "source": [
    "train['DIFFERENT_COUNTRY'] = (train['LOGIN_COUNTRY_CODE'] == train['LISTING_COUNTRY_CODE']) * 1"
   ]
  },
  {
   "cell_type": "markdown",
   "metadata": {},
   "source": [
    "Final check for colinearity of the features before dummies creation."
   ]
  },
  {
   "cell_type": "code",
   "execution_count": 24,
   "metadata": {},
   "outputs": [
    {
     "data": {
      "image/png": "[encoded data removed]",
      "text/plain": [
       "<Figure size 1008x864 with 2 Axes>"
      ]
     },
     "metadata": {},
     "output_type": "display_data"
    }
   ],
   "source": [
    "correlation_heatmap(train)"
   ]
  },
  {
   "cell_type": "markdown",
   "metadata": {},
   "source": [
    "### Creating dummy variables"
   ]
  },
  {
   "cell_type": "code",
   "execution_count": 25,
   "metadata": {},
   "outputs": [],
   "source": [
    "def create_dummies(df, column_name):\n",
    "    \"\"\"Create Dummy Columns (One Hot Encoding) from a single Column\n",
    "\n",
    "    Usage\n",
    "    ------\n",
    "\n",
    "    train = create_dummies(train,\"EMAIL_DOMAIN\")\n",
    "    \"\"\"\n",
    "    dummies = pd.get_dummies(df[column_name],prefix=column_name)\n",
    "    df = pd.concat([df,dummies],axis=1)\n",
    "    return df\n",
    "\n",
    "dummy_columns = ['LISTING_KIND','LISTING_CITY_PROCESSED', 'EMAIL_DOMAIN_PROCESSED', 'LOGIN_COUNTRY_CODE_PROCESSED']\n",
    "\n",
    "for column in dummy_columns:\n",
    "    train = create_dummies(train,column)"
   ]
  },
  {
   "cell_type": "markdown",
   "metadata": {},
   "source": [
    "## Model Training and Prediction"
   ]
  },
  {
   "cell_type": "markdown",
   "metadata": {},
   "source": [
    "We are now going to implement the final preparations of the features in order to feed them into models.\n",
    "\n",
    "As mentioned in the beggining of the project, we will split the data 80/20 in order to perform the final test for the chosen algorithm."
   ]
  },
  {
   "cell_type": "code",
   "execution_count": 26,
   "metadata": {
    "scrolled": true
   },
   "outputs": [
    {
     "name": "stdout",
     "output_type": "stream",
     "text": [
      "Data split CHECK:\n",
      "There are both 13409 rows of features and 13409 rows of labels for the training set.\n",
      "There are both 3353 rows of features and 3353 rows of labels for the testing set.\n"
     ]
    }
   ],
   "source": [
    "# Remove non-numeric columns, columns that have been feature engineered\n",
    "drop_cols = ['LISTING_CITY','LOGIN_COUNTRY_CODE','LISTING_COUNTRY_CODE','BROWSER','OS',\n",
    "'ANONYMISED_EMAIL','EMAIL_DOMAIN','LISTING_KIND','LISTING_PRICE','ADVERTISER_COMPLETENESS_SCORE',\n",
    "'HAS_PROFILE_PIC','IS_SCAMMER','LISTING_CITY_PROCESSED','LOGIN_COUNTRY_CODE_PROCESSED','EMAIL_DOMAIN_PROCESSED']\n",
    "\n",
    "# Gather all features and all labels in two dataframes\n",
    "all_X = train.drop(drop_cols,axis=1)\n",
    "all_y = train[\"IS_SCAMMER\"]\n",
    "\n",
    "# Split the features and labels in training- and testing- data (80/20 split or 0.2 test_size)\n",
    "X_train, X_test, y_train, y_test = train_test_split(all_X, all_y, test_size=0.2, random_state=1)\n",
    "\n",
    "print(\"Data split CHECK:\")\n",
    "if (X_train.shape[0] == y_train.shape[0]):\n",
    "    print(\"There are both {0} rows of features and {1} rows of labels for the training set.\".format(\n",
    "        X_train.shape[0], y_train.shape[0]))\n",
    "if (X_test.shape[0] == y_test.shape[0]):\n",
    "    print(\"There are both {0} rows of features and {1} rows of labels for the testing set.\".format(\n",
    "    X_test.shape[0], y_test.shape[0]))"
   ]
  },
  {
   "cell_type": "markdown",
   "metadata": {},
   "source": [
    "### Model Selection\n",
    "\n",
    "In order to come up with viable algorithm choices, we first have to understand the problem at hand: fraud detection problems are, in fact, classification problems.\n",
    "\n",
    "Moreover, we have an imbalanced dataset, i.e. the majority of the samples are actually negative (not a scammer).\n",
    "In this scenario, classifiers can have good accuracy on the majority class but very poor accuracy on the minority class(es) due to the influence that the larger majority class. \n",
    "\n",
    "Additionally, the metric to be maximized depends on the business model of the company and the features and policies it promises to its customers. For instance, if we promise a site without scammers, then we should optimize for recall (predicted positives/actual positives). However, because the data is imbalanced a more suitable metric would be the ROC-AUC.\n",
    "\n",
    "All the algorithms will be hyperparameter tuned through grid search and cross validation of 10.\n",
    "\n",
    "Finally, for the sake of this exercise and because of time and computational constraints, I've decided to pick only four algorithms commonly used in classification problems, each from a different type of classifiers: \n",
    "- Logistic Regression (regression classifier type)\n",
    "- Random Forest (ensemble method type)\n",
    "- SVC (support-vector classifier, a support-vector machine type)\n",
    "- MLPC (Multi-layer Perceptron classifier, an artificial neural network type)\n",
    "\n",
    "> Caution: This step is computationally and time expensive!"
   ]
  },
  {
   "cell_type": "code",
   "execution_count": 27,
   "metadata": {},
   "outputs": [
    {
     "name": "stdout",
     "output_type": "stream",
     "text": [
      "LogisticRegression\n",
      "------------------------------\n",
      "Best Score: 0.9507318253495254\n",
      "Best Parameters: {'C': 1.0, 'solver': 'lbfgs'}\n",
      "\n",
      "RandomForestClassifier\n",
      "------------------------------\n",
      "Best Score: 0.9677680563448815\n",
      "Best Parameters: {'max_features': 'sqrt', 'n_estimators': 1000}\n",
      "\n",
      "SVC\n",
      "------------------------------\n",
      "Best Score: 0.9035880348049468\n",
      "Best Parameters: {'C': 0.01, 'gamma': 0.001, 'kernel': 'sigmoid'}\n",
      "\n",
      "MLP Classifier\n",
      "------------------------------\n",
      "Best Score: 0.9596803509293634\n",
      "Best Parameters: {'activation': 'relu', 'alpha': 0.05, 'hidden_layer_sizes': (100,), 'learning_rate': 'adaptive', 'solver': 'adam'}\n",
      "\n"
     ]
    }
   ],
   "source": [
    "def select_model(training_features,training_labels):\n",
    "    \n",
    "    # List of dictionaries, each containing a model name,\n",
    "    # its estimator and a dictionary of hyperparameters for tuning\n",
    "    models = [\n",
    "        {\n",
    "            \"name\": \"LogisticRegression\",\n",
    "            \"estimator\": LogisticRegression(),\n",
    "            \"hyperparameters\":\n",
    "                {\n",
    "                    \"solver\": [\"newton-cg\", \"lbfgs\", \"liblinear\"],\n",
    "                    \"C\": [10, 1.0, 0.1, 0.01]\n",
    "                }\n",
    "        },\n",
    "        {\n",
    "            \"name\": \"RandomForestClassifier\",\n",
    "            \"estimator\": RandomForestClassifier(random_state=1),\n",
    "            \"hyperparameters\":\n",
    "                {\n",
    "                    \"n_estimators\": [10, 100, 1000],\n",
    "                    \"max_features\": [\"log2\", \"sqrt\"]\n",
    "                }\n",
    "        },\n",
    "        {\n",
    "            \"name\": \"SVC\",\n",
    "            \"estimator\": SVC(max_iter=100),\n",
    "            \"hyperparameters\":\n",
    "                {\n",
    "                    \"kernel\": ['poly', 'rbf', 'sigmoid'],\n",
    "                    \"C\": [10, 1.0, 0.1, 0.01],\n",
    "                    \"gamma\": [1, 0.1, 0.01, 0.001, 0.0001]\n",
    "                }\n",
    "        },\n",
    "        {\n",
    "            \"name\": \"MLP Classifier\",\n",
    "            \"estimator\": MLPClassifier(max_iter=100),\n",
    "            \"hyperparameters\":\n",
    "                {\n",
    "                    'hidden_layer_sizes': [(50,50,50), (50,100,50), (100,)],\n",
    "                    'activation': ['tanh', 'relu'],\n",
    "                    'solver': ['sgd', 'adam'],\n",
    "                    'alpha': [0.0001, 0.05],\n",
    "                    'learning_rate': ['constant','adaptive'],\n",
    "                }\n",
    "        }\n",
    "    ]\n",
    "\n",
    "    for model in models:\n",
    "        print(model['name'])\n",
    "        print('-'*30)\n",
    "        scoring = {'AUC': 'roc_auc'}\n",
    "        grid = GridSearchCV(model[\"estimator\"],\n",
    "                            param_grid=model[\"hyperparameters\"],\n",
    "                            cv=10,\n",
    "                            scoring=scoring,\n",
    "                            refit='AUC')\n",
    "        grid.fit(training_features,training_labels)\n",
    "        model[\"best_params\"] = grid.best_params_\n",
    "        model[\"best_score\"] = grid.best_score_\n",
    "        model[\"best_model\"] = grid.best_estimator_\n",
    "\n",
    "        print(\"Best Score: {}\".format(model[\"best_score\"]))\n",
    "        print(\"Best Parameters: {}\\n\".format(model[\"best_params\"]))\n",
    "    return models\n",
    "\n",
    "result = select_model(X_train, y_train)"
   ]
  },
  {
   "cell_type": "markdown",
   "metadata": {},
   "source": [
    "# Testing and Evaluating"
   ]
  },
  {
   "cell_type": "code",
   "execution_count": 114,
   "metadata": {
    "scrolled": true
   },
   "outputs": [
    {
     "data": {
      "text/html": [
       "<div>\n",
       "<style scoped>\n",
       "    .dataframe tbody tr th:only-of-type {\n",
       "        vertical-align: middle;\n",
       "    }\n",
       "\n",
       "    .dataframe tbody tr th {\n",
       "        vertical-align: top;\n",
       "    }\n",
       "\n",
       "    .dataframe thead th {\n",
       "        text-align: right;\n",
       "    }\n",
       "</style>\n",
       "<table border=\"1\" class=\"dataframe\">\n",
       "  <thead>\n",
       "    <tr style=\"text-align: right;\">\n",
       "      <th></th>\n",
       "      <th>name</th>\n",
       "      <th>best_score</th>\n",
       "      <th>best_model</th>\n",
       "    </tr>\n",
       "  </thead>\n",
       "  <tbody>\n",
       "    <tr>\n",
       "      <th>1</th>\n",
       "      <td>RandomForestClassifier</td>\n",
       "      <td>0.967768</td>\n",
       "      <td>(DecisionTreeClassifier(class_weight=None, cri...</td>\n",
       "    </tr>\n",
       "    <tr>\n",
       "      <th>3</th>\n",
       "      <td>MLP Classifier</td>\n",
       "      <td>0.959680</td>\n",
       "      <td>MLPClassifier(activation='relu', alpha=0.05, b...</td>\n",
       "    </tr>\n",
       "    <tr>\n",
       "      <th>0</th>\n",
       "      <td>LogisticRegression</td>\n",
       "      <td>0.950732</td>\n",
       "      <td>LogisticRegression(C=1.0, class_weight=None, d...</td>\n",
       "    </tr>\n",
       "    <tr>\n",
       "      <th>2</th>\n",
       "      <td>SVC</td>\n",
       "      <td>0.903588</td>\n",
       "      <td>SVC(C=0.01, cache_size=200, class_weight=None,...</td>\n",
       "    </tr>\n",
       "  </tbody>\n",
       "</table>\n",
       "</div>"
      ],
      "text/plain": [
       "                     name  best_score  \\\n",
       "1  RandomForestClassifier    0.967768   \n",
       "3          MLP Classifier    0.959680   \n",
       "0      LogisticRegression    0.950732   \n",
       "2                     SVC    0.903588   \n",
       "\n",
       "                                          best_model  \n",
       "1  (DecisionTreeClassifier(class_weight=None, cri...  \n",
       "3  MLPClassifier(activation='relu', alpha=0.05, b...  \n",
       "0  LogisticRegression(C=1.0, class_weight=None, d...  \n",
       "2  SVC(C=0.01, cache_size=200, class_weight=None,...  "
      ]
     },
     "execution_count": 114,
     "metadata": {},
     "output_type": "execute_result"
    }
   ],
   "source": [
    "model_selection = pd.DataFrame(result)\n",
    "model_selection[['name','best_score','best_model']].sort_values(by=\"best_score\",ascending=False)\n",
    "# included best_model column for transparency"
   ]
  },
  {
   "cell_type": "markdown",
   "metadata": {},
   "source": [
    "For transparency reasons, because the top 3 performing algorithms are possibly within standard deviations away, I will test each on the \"new\" data."
   ]
  },
  {
   "cell_type": "code",
   "execution_count": 115,
   "metadata": {},
   "outputs": [],
   "source": [
    "# selecting for each algorithm the best model according to optimal hyperparameters\n",
    "random_forest = result[1][\"best_model\"]\n",
    "MLP = result[3][\"best_model\"]\n",
    "logit = result[0][\"best_model\"]\n",
    "\n",
    "# predicting the \"new\" ads\n",
    "predictions_rf = random_forest.predict(X_test)\n",
    "predictions_mlp = MLP.predict(X_test)\n",
    "predictions_logit = logit.predict(X_test)"
   ]
  },
  {
   "cell_type": "code",
   "execution_count": 116,
   "metadata": {
    "scrolled": true
   },
   "outputs": [
    {
     "data": {
      "text/html": [
       "<div>\n",
       "<style scoped>\n",
       "    .dataframe tbody tr th:only-of-type {\n",
       "        vertical-align: middle;\n",
       "    }\n",
       "\n",
       "    .dataframe tbody tr th {\n",
       "        vertical-align: top;\n",
       "    }\n",
       "\n",
       "    .dataframe thead th {\n",
       "        text-align: right;\n",
       "    }\n",
       "</style>\n",
       "<table border=\"1\" class=\"dataframe\">\n",
       "  <thead>\n",
       "    <tr style=\"text-align: right;\">\n",
       "      <th></th>\n",
       "      <th>Model</th>\n",
       "      <th>Accuracy</th>\n",
       "    </tr>\n",
       "  </thead>\n",
       "  <tbody>\n",
       "    <tr>\n",
       "      <th>0</th>\n",
       "      <td>Random Forest</td>\n",
       "      <td>0.972562</td>\n",
       "    </tr>\n",
       "    <tr>\n",
       "      <th>1</th>\n",
       "      <td>Multi-Layer Perceptron</td>\n",
       "      <td>0.964808</td>\n",
       "    </tr>\n",
       "    <tr>\n",
       "      <th>2</th>\n",
       "      <td>Logistic Regression</td>\n",
       "      <td>0.961825</td>\n",
       "    </tr>\n",
       "  </tbody>\n",
       "</table>\n",
       "</div>"
      ],
      "text/plain": [
       "                    Model  Accuracy\n",
       "0           Random Forest  0.972562\n",
       "1  Multi-Layer Perceptron  0.964808\n",
       "2     Logistic Regression  0.961825"
      ]
     },
     "execution_count": 116,
     "metadata": {},
     "output_type": "execute_result"
    }
   ],
   "source": [
    "comparison = pd.DataFrame({\"IS_SCAMMER_RF\":predictions_rf, \n",
    "                           \"IS_SCAMMER_MLP\":predictions_mlp,\n",
    "                           \"IS_SCAMMER_LOGIT\":predictions_logit},index=X_test.index)\n",
    "\n",
    "comparison = pd.concat([y_test, comparison],axis=1)\n",
    "accuracy_rf = (comparison['IS_SCAMMER'] == comparison['IS_SCAMMER_RF']).sum()/len(y_test)\n",
    "accuracy_mlp = (comparison['IS_SCAMMER'] == comparison['IS_SCAMMER_MLP']).sum()/len(y_test)\n",
    "accuracy_logit = (comparison['IS_SCAMMER'] == comparison['IS_SCAMMER_LOGIT']).sum()/len(y_test)\n",
    "accuracy_table = pd.DataFrame({\"Model\":[\"Random Forest\",\"Multi-Layer Perceptron\",\"Logistic Regression\"],\n",
    "                               \"Accuracy\":[accuracy_rf,accuracy_mlp,accuracy_logit]})\n",
    "accuracy_table"
   ]
  },
  {
   "cell_type": "markdown",
   "metadata": {},
   "source": [
    "We can see that the order is the same as in the case of training data.\n",
    "Therefore, we conclude that for our problem the best algorithm from the four tested is the **Random Forest Classifier**.\n",
    "\n",
    "An accuracy of 97.26% is a very good result, and the employment of such a model can be enhanced by setting thresholds of automatic denial (e.g. 80%+ probability to be scammer) and inspection (e.g. 50-80% scammer probability).\n",
    "\n",
    "Further implementantion of newer algorithms can improve marginally the accuracy of the model."
   ]
  }
 ],
 "metadata": {
  "kernelspec": {
   "display_name": "Python 3",
   "language": "python",
   "name": "python3"
  },
  "language_info": {
   "codemirror_mode": {
    "name": "ipython",
    "version": 3
   },
   "file_extension": ".py",
   "mimetype": "text/x-python",
   "name": "python",
   "nbconvert_exporter": "python",
   "pygments_lexer": "ipython3",
   "version": "3.6.4"
  }
 },
 "nbformat": 4,
 "nbformat_minor": 2
}
